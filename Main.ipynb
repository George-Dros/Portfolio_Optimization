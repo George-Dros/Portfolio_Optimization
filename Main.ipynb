{
 "cells": [
  {
   "cell_type": "code",
   "execution_count": 1,
   "id": "d6e0d72f-8bc5-4a40-8aba-ba90033fd758",
   "metadata": {},
   "outputs": [
    {
     "name": "stderr",
     "output_type": "stream",
     "text": [
      "[*********************100%***********************]  10 of 10 completed"
     ]
    },
    {
     "name": "stdout",
     "output_type": "stream",
     "text": [
      "Ticker                          AAPL       AMZN        AZN.L        BP.L  \\\n",
      "Date                                                                       \n",
      "2018-01-02 00:00:00+00:00  40.568932  59.450500  4202.677734  355.833984   \n",
      "2018-01-03 00:00:00+00:00  40.561863  60.209999  4252.896484  360.440857   \n",
      "2018-01-04 00:00:00+00:00  40.750271  60.479500  4257.012695  364.428894   \n",
      "2018-01-05 00:00:00+00:00  41.214230  61.457001  4284.180176  364.153931   \n",
      "2018-01-08 00:00:00+00:00  41.061146  62.343498  4242.194336  362.641266   \n",
      "\n",
      "Ticker                          GOOG      HSBA.L        JPM       MSFT  \\\n",
      "Date                                                                     \n",
      "2018-01-02 00:00:00+00:00  53.119549  532.506348  88.566330  79.792915   \n",
      "2018-01-03 00:00:00+00:00  53.991409  531.323181  88.656601  80.164276   \n",
      "2018-01-04 00:00:00+00:00  54.186924  533.202393  89.926636  80.869804   \n",
      "2018-01-05 00:00:00+00:00  54.976486  531.392761  89.349358  81.872459   \n",
      "2018-01-08 00:00:00+00:00  55.211411  527.564819  89.481308  81.955994   \n",
      "\n",
      "Ticker                          ULVR.L       VOD.L  \n",
      "Date                                                \n",
      "2018-01-02 00:00:00+00:00  3207.188965  135.358383  \n",
      "2018-01-03 00:00:00+00:00  3217.892578  135.155716  \n",
      "2018-01-04 00:00:00+00:00  3227.803711  136.226791  \n",
      "2018-01-05 00:00:00+00:00  3244.850098  137.095230  \n",
      "2018-01-08 00:00:00+00:00  3244.057617  137.587341  \n"
     ]
    },
    {
     "name": "stderr",
     "output_type": "stream",
     "text": [
      "\n"
     ]
    }
   ],
   "source": [
    "import yfinance as yf\n",
    "import pandas as pd\n",
    "import functions as f\n",
    "import matplotlib.pyplot as plt\n",
    "import numpy as np\n",
    "# List of UK and international tickers for the portfolio\n",
    "\n",
    "tickers = ['BP.L', 'VOD.L', 'ULVR.L', 'AZN.L', 'HSBA.L', 'AAPL', 'MSFT', 'GOOG', 'AMZN', 'JPM']\n",
    "\n",
    "\n",
    "# Download adjusted close prices from Yahoo Finance for a 5-year range\n",
    "data = yf.download(tickers, start=\"2018-01-01\", end=\"2023-01-01\")['Adj Close']\n",
    "\n",
    "print(data.head())\n"
   ]
  },
  {
   "cell_type": "code",
   "execution_count": 2,
   "id": "4fc4213a-1094-4274-854b-035d63231fc4",
   "metadata": {},
   "outputs": [
    {
     "name": "stdout",
     "output_type": "stream",
     "text": [
      "Missing values per ticker:\n",
      " Ticker\n",
      "AAPL      29\n",
      "AMZN      29\n",
      "AZN.L     25\n",
      "BP.L      30\n",
      "GOOG      29\n",
      "HSBA.L    25\n",
      "JPM       29\n",
      "MSFT      29\n",
      "ULVR.L    25\n",
      "VOD.L     25\n",
      "dtype: int64\n"
     ]
    }
   ],
   "source": [
    "missing_data = data.isnull().sum()\n",
    "print(\"Missing values per ticker:\\n\", missing_data)"
   ]
  },
  {
   "cell_type": "code",
   "execution_count": 3,
   "id": "f65fdd1e-00a7-42ca-bcf3-752c90ce93a9",
   "metadata": {},
   "outputs": [
    {
     "name": "stdout",
     "output_type": "stream",
     "text": [
      "<class 'pandas.core.frame.DataFrame'>\n"
     ]
    }
   ],
   "source": [
    "print(type(data))"
   ]
  },
  {
   "cell_type": "code",
   "execution_count": 4,
   "id": "bd913828-0270-4f75-8fa1-b81b6fc24dda",
   "metadata": {},
   "outputs": [
    {
     "name": "stdout",
     "output_type": "stream",
     "text": [
      "Total number of trading days: 1288\n",
      "Total missing values across all tickers: 275\n"
     ]
    }
   ],
   "source": [
    "# Total number of rows before dropping missing values\n",
    "total_rows = data.shape[0]\n",
    "print(f\"Total number of trading days: {total_rows}\")\n",
    "\n",
    "# Sum of missing values across all tickers\n",
    "total_missing = data.isnull().sum().sum()\n",
    "print(f\"Total missing values across all tickers: {total_missing}\")"
   ]
  },
  {
   "cell_type": "code",
   "execution_count": 5,
   "id": "2ea1c627-a990-4df2-bed5-d26e204a46aa",
   "metadata": {},
   "outputs": [
    {
     "name": "stdout",
     "output_type": "stream",
     "text": [
      "Number of trading days after dropping missing values: 1229\n"
     ]
    }
   ],
   "source": [
    "# Drop rows with any missing values\n",
    "data_cleaned = data.dropna()\n",
    "print(f\"Number of trading days after dropping missing values: {data_cleaned.shape[0]}\")"
   ]
  },
  {
   "cell_type": "code",
   "execution_count": 6,
   "id": "ebd9328e-571a-4ee9-bee8-ba4bf6eb4b63",
   "metadata": {},
   "outputs": [
    {
     "name": "stdout",
     "output_type": "stream",
     "text": [
      "Data retained after dropping missing values: 95.42%\n"
     ]
    }
   ],
   "source": [
    "# Calculate the percentage of data retained after dropping missing values\n",
    "data_cleaned = data.dropna()\n",
    "retained_rows = data_cleaned.shape[0]\n",
    "data_retained_percentage = (retained_rows / total_rows) * 100\n",
    "print(f\"Data retained after dropping missing values: {data_retained_percentage:.2f}%\")"
   ]
  },
  {
   "cell_type": "code",
   "execution_count": 7,
   "id": "9cb017e5-66f4-48eb-9194-8437e56790fb",
   "metadata": {},
   "outputs": [],
   "source": [
    "# Calculate daily returns\n",
    "returns = data_cleaned.pct_change().dropna()"
   ]
  },
  {
   "cell_type": "code",
   "execution_count": 8,
   "id": "379fbca3-50bb-4ce9-92f2-42263e50922d",
   "metadata": {},
   "outputs": [],
   "source": [
    "#Define periods per year for daily data\n",
    "periods_per_year = 252\n",
    "\n",
    "#Calculate annualized expected returns and covariance matrix\n",
    "rets = f.annualize_rets(returns, periods_per_year)\n",
    "cov_m = returns.cov() * periods_per_year"
   ]
  },
  {
   "cell_type": "code",
   "execution_count": 9,
   "id": "d3df9876-8c18-45da-b4fd-dcec57e5fbb6",
   "metadata": {},
   "outputs": [
    {
     "data": {
      "text/plain": [
       "Ticker\n",
       "AAPL      0.267370\n",
       "AMZN      0.073513\n",
       "AZN.L     0.212611\n",
       "BP.L      0.042309\n",
       "GOOG      0.110468\n",
       "HSBA.L   -0.039740\n",
       "JPM       0.077085\n",
       "MSFT      0.249691\n",
       "ULVR.L    0.042722\n",
       "VOD.L    -0.125908\n",
       "dtype: float64"
      ]
     },
     "execution_count": 9,
     "metadata": {},
     "output_type": "execute_result"
    }
   ],
   "source": [
    "rets"
   ]
  },
  {
   "cell_type": "code",
   "execution_count": 10,
   "id": "ff4f4c3a-e17c-4a20-970a-e312248a04a4",
   "metadata": {},
   "outputs": [
    {
     "data": {
      "text/html": [
       "<div>\n",
       "<style scoped>\n",
       "    .dataframe tbody tr th:only-of-type {\n",
       "        vertical-align: middle;\n",
       "    }\n",
       "\n",
       "    .dataframe tbody tr th {\n",
       "        vertical-align: top;\n",
       "    }\n",
       "\n",
       "    .dataframe thead th {\n",
       "        text-align: right;\n",
       "    }\n",
       "</style>\n",
       "<table border=\"1\" class=\"dataframe\">\n",
       "  <thead>\n",
       "    <tr style=\"text-align: right;\">\n",
       "      <th>Ticker</th>\n",
       "      <th>AAPL</th>\n",
       "      <th>AMZN</th>\n",
       "      <th>AZN.L</th>\n",
       "      <th>BP.L</th>\n",
       "      <th>GOOG</th>\n",
       "      <th>HSBA.L</th>\n",
       "      <th>JPM</th>\n",
       "      <th>MSFT</th>\n",
       "      <th>ULVR.L</th>\n",
       "      <th>VOD.L</th>\n",
       "    </tr>\n",
       "    <tr>\n",
       "      <th>Ticker</th>\n",
       "      <th></th>\n",
       "      <th></th>\n",
       "      <th></th>\n",
       "      <th></th>\n",
       "      <th></th>\n",
       "      <th></th>\n",
       "      <th></th>\n",
       "      <th></th>\n",
       "      <th></th>\n",
       "      <th></th>\n",
       "    </tr>\n",
       "  </thead>\n",
       "  <tbody>\n",
       "    <tr>\n",
       "      <th>AAPL</th>\n",
       "      <td>0.116387</td>\n",
       "      <td>0.081095</td>\n",
       "      <td>0.012078</td>\n",
       "      <td>0.022509</td>\n",
       "      <td>0.075784</td>\n",
       "      <td>0.016221</td>\n",
       "      <td>0.051675</td>\n",
       "      <td>0.082936</td>\n",
       "      <td>0.010091</td>\n",
       "      <td>0.015681</td>\n",
       "    </tr>\n",
       "    <tr>\n",
       "      <th>AMZN</th>\n",
       "      <td>0.081095</td>\n",
       "      <td>0.132550</td>\n",
       "      <td>0.010072</td>\n",
       "      <td>0.009589</td>\n",
       "      <td>0.079550</td>\n",
       "      <td>0.010897</td>\n",
       "      <td>0.037558</td>\n",
       "      <td>0.081982</td>\n",
       "      <td>0.007723</td>\n",
       "      <td>0.012226</td>\n",
       "    </tr>\n",
       "    <tr>\n",
       "      <th>AZN.L</th>\n",
       "      <td>0.012078</td>\n",
       "      <td>0.010072</td>\n",
       "      <td>0.062565</td>\n",
       "      <td>0.016958</td>\n",
       "      <td>0.009480</td>\n",
       "      <td>0.014131</td>\n",
       "      <td>0.004619</td>\n",
       "      <td>0.013801</td>\n",
       "      <td>0.018287</td>\n",
       "      <td>0.018736</td>\n",
       "    </tr>\n",
       "    <tr>\n",
       "      <th>BP.L</th>\n",
       "      <td>0.022509</td>\n",
       "      <td>0.009589</td>\n",
       "      <td>0.016958</td>\n",
       "      <td>0.131359</td>\n",
       "      <td>0.023949</td>\n",
       "      <td>0.052782</td>\n",
       "      <td>0.056282</td>\n",
       "      <td>0.019424</td>\n",
       "      <td>0.012740</td>\n",
       "      <td>0.039328</td>\n",
       "    </tr>\n",
       "    <tr>\n",
       "      <th>GOOG</th>\n",
       "      <td>0.075784</td>\n",
       "      <td>0.079550</td>\n",
       "      <td>0.009480</td>\n",
       "      <td>0.023949</td>\n",
       "      <td>0.101044</td>\n",
       "      <td>0.017024</td>\n",
       "      <td>0.050413</td>\n",
       "      <td>0.080521</td>\n",
       "      <td>0.009887</td>\n",
       "      <td>0.021142</td>\n",
       "    </tr>\n",
       "    <tr>\n",
       "      <th>HSBA.L</th>\n",
       "      <td>0.016221</td>\n",
       "      <td>0.010897</td>\n",
       "      <td>0.014131</td>\n",
       "      <td>0.052782</td>\n",
       "      <td>0.017024</td>\n",
       "      <td>0.077444</td>\n",
       "      <td>0.045631</td>\n",
       "      <td>0.014886</td>\n",
       "      <td>0.013830</td>\n",
       "      <td>0.032300</td>\n",
       "    </tr>\n",
       "    <tr>\n",
       "      <th>JPM</th>\n",
       "      <td>0.051675</td>\n",
       "      <td>0.037558</td>\n",
       "      <td>0.004619</td>\n",
       "      <td>0.056282</td>\n",
       "      <td>0.050413</td>\n",
       "      <td>0.045631</td>\n",
       "      <td>0.106376</td>\n",
       "      <td>0.051289</td>\n",
       "      <td>0.009666</td>\n",
       "      <td>0.033888</td>\n",
       "    </tr>\n",
       "    <tr>\n",
       "      <th>MSFT</th>\n",
       "      <td>0.082936</td>\n",
       "      <td>0.081982</td>\n",
       "      <td>0.013801</td>\n",
       "      <td>0.019424</td>\n",
       "      <td>0.080521</td>\n",
       "      <td>0.014886</td>\n",
       "      <td>0.051289</td>\n",
       "      <td>0.099071</td>\n",
       "      <td>0.011792</td>\n",
       "      <td>0.017485</td>\n",
       "    </tr>\n",
       "    <tr>\n",
       "      <th>ULVR.L</th>\n",
       "      <td>0.010091</td>\n",
       "      <td>0.007723</td>\n",
       "      <td>0.018287</td>\n",
       "      <td>0.012740</td>\n",
       "      <td>0.009887</td>\n",
       "      <td>0.013830</td>\n",
       "      <td>0.009666</td>\n",
       "      <td>0.011792</td>\n",
       "      <td>0.047697</td>\n",
       "      <td>0.019138</td>\n",
       "    </tr>\n",
       "    <tr>\n",
       "      <th>VOD.L</th>\n",
       "      <td>0.015681</td>\n",
       "      <td>0.012226</td>\n",
       "      <td>0.018736</td>\n",
       "      <td>0.039328</td>\n",
       "      <td>0.021142</td>\n",
       "      <td>0.032300</td>\n",
       "      <td>0.033888</td>\n",
       "      <td>0.017485</td>\n",
       "      <td>0.019138</td>\n",
       "      <td>0.076077</td>\n",
       "    </tr>\n",
       "  </tbody>\n",
       "</table>\n",
       "</div>"
      ],
      "text/plain": [
       "Ticker      AAPL      AMZN     AZN.L      BP.L      GOOG    HSBA.L       JPM  \\\n",
       "Ticker                                                                         \n",
       "AAPL    0.116387  0.081095  0.012078  0.022509  0.075784  0.016221  0.051675   \n",
       "AMZN    0.081095  0.132550  0.010072  0.009589  0.079550  0.010897  0.037558   \n",
       "AZN.L   0.012078  0.010072  0.062565  0.016958  0.009480  0.014131  0.004619   \n",
       "BP.L    0.022509  0.009589  0.016958  0.131359  0.023949  0.052782  0.056282   \n",
       "GOOG    0.075784  0.079550  0.009480  0.023949  0.101044  0.017024  0.050413   \n",
       "HSBA.L  0.016221  0.010897  0.014131  0.052782  0.017024  0.077444  0.045631   \n",
       "JPM     0.051675  0.037558  0.004619  0.056282  0.050413  0.045631  0.106376   \n",
       "MSFT    0.082936  0.081982  0.013801  0.019424  0.080521  0.014886  0.051289   \n",
       "ULVR.L  0.010091  0.007723  0.018287  0.012740  0.009887  0.013830  0.009666   \n",
       "VOD.L   0.015681  0.012226  0.018736  0.039328  0.021142  0.032300  0.033888   \n",
       "\n",
       "Ticker      MSFT    ULVR.L     VOD.L  \n",
       "Ticker                                \n",
       "AAPL    0.082936  0.010091  0.015681  \n",
       "AMZN    0.081982  0.007723  0.012226  \n",
       "AZN.L   0.013801  0.018287  0.018736  \n",
       "BP.L    0.019424  0.012740  0.039328  \n",
       "GOOG    0.080521  0.009887  0.021142  \n",
       "HSBA.L  0.014886  0.013830  0.032300  \n",
       "JPM     0.051289  0.009666  0.033888  \n",
       "MSFT    0.099071  0.011792  0.017485  \n",
       "ULVR.L  0.011792  0.047697  0.019138  \n",
       "VOD.L   0.017485  0.019138  0.076077  "
      ]
     },
     "execution_count": 10,
     "metadata": {},
     "output_type": "execute_result"
    }
   ],
   "source": [
    "cov_m"
   ]
  },
  {
   "cell_type": "code",
   "execution_count": 11,
   "id": "362e92f7-ad62-4644-9338-ebd8f0f39125",
   "metadata": {},
   "outputs": [],
   "source": [
    "risk_free_rate = 0.03"
   ]
  },
  {
   "cell_type": "code",
   "execution_count": 12,
   "id": "4beba389-df81-4bcf-8cb0-082559908a4b",
   "metadata": {},
   "outputs": [
    {
     "name": "stdout",
     "output_type": "stream",
     "text": [
      "Optimal weights for maximum Sharpe ratio portfolio: [2.44209220e-01 0.00000000e+00 5.49171288e-01 0.00000000e+00\n",
      " 1.48237542e-16 1.06549969e-16 9.98279150e-17 2.06619493e-01\n",
      " 9.76866157e-17 0.00000000e+00]\n"
     ]
    }
   ],
   "source": [
    "optimal_weights_msr = f.msr(risk_free_rate, rets, cov_m)\n",
    "print(\"Optimal weights for maximum Sharpe ratio portfolio:\", optimal_weights_msr)"
   ]
  },
  {
   "cell_type": "code",
   "execution_count": 13,
   "id": "22de1b82-78c7-4c6e-9790-f0f3db4b9ccb",
   "metadata": {},
   "outputs": [
    {
     "name": "stdout",
     "output_type": "stream",
     "text": [
      "Optimal weights for global minimum variance portfolio: [2.82200084e-02 7.54282000e-02 2.25427802e-01 1.86685020e-02\n",
      " 5.54644105e-02 1.30735717e-01 4.40341377e-02 7.68428290e-18\n",
      " 3.41925779e-01 8.00954442e-02]\n"
     ]
    }
   ],
   "source": [
    "optimal_weights_gmv = f.gmv(cov_m)\n",
    "print(\"Optimal weights for global minimum variance portfolio:\", optimal_weights_gmv)"
   ]
  },
  {
   "cell_type": "code",
   "execution_count": 14,
   "id": "a1d4a5cc-d50d-4312-9e52-9a4f615c9fc8",
   "metadata": {},
   "outputs": [],
   "source": [
    "n_points = 100\n",
    "# Calculate annualized expected returns and covariance matrix\n",
    "rets = f.annualize_rets(returns, periods_per_year)\n",
    "cov_m = returns.cov() * periods_per_year\n",
    "\n",
    "# Optimal Weights for MSR and GMV\n",
    "optimal_weights_msr = f.msr(risk_free_rate, rets, cov_m)\n",
    "optimal_weights_gmv = f.gmv(cov_m)"
   ]
  },
  {
   "cell_type": "code",
   "execution_count": 32,
   "id": "242823c5-3939-489b-9a5d-7fb325c6887f",
   "metadata": {},
   "outputs": [
    {
     "data": {
      "image/png": "[encoded data removed]",
      "text/plain": [
       "<Figure size 1000x600 with 1 Axes>"
      ]
     },
     "metadata": {},
     "output_type": "display_data"
    }
   ],
   "source": [
    "# Step 1: Calculate Efficient Frontier Points Manually\n",
    "target_returns = np.linspace(rets.min(), rets.max(), n_points)\n",
    "frontier_vols = []\n",
    "frontier_returns = []\n",
    "\n",
    "for target_return in target_returns:\n",
    "    weights = f.minimize_vol(target_return, rets, cov_m)\n",
    "    vol = f.portfolio_vol(weights, cov_m)\n",
    "    ret = f.portfolio_return(weights, rets)\n",
    "    frontier_vols.append(vol)\n",
    "    frontier_returns.append(ret)\n",
    "\n",
    "# Step 2: Calculate Max Sharpe Ratio (MSR) and Global Minimum Variance (GMV) Portfolio Points\n",
    "optimal_weights_msr = f.msr(risk_free_rate, rets, cov_m)\n",
    "optimal_weights_gmv = f.gmv(cov_m)\n",
    "\n",
    "msr_volatility = f.portfolio_vol(optimal_weights_msr, cov_m)\n",
    "msr_return = f.portfolio_return(optimal_weights_msr, rets)\n",
    "gmv_volatility = f.portfolio_vol(optimal_weights_gmv, cov_m)\n",
    "gmv_return = f.portfolio_return(optimal_weights_gmv, rets)\n",
    "\n",
    "# Step 3: Plot Efficient Frontier and Portfolios\n",
    "plt.style.use(\"ggplot\")\n",
    "fig, ax = plt.subplots(figsize=(10, 6))\n",
    "\n",
    "# Plot the efficient frontier\n",
    "ax.plot(frontier_vols, frontier_returns, linestyle='-', color='blue', label=\"Efficient Frontier\")\n",
    "\n",
    "# Plot MSR and GMV portfolios with custom markers\n",
    "plt.scatter(msr_volatility, msr_return, color=\"red\", marker=\"*\", s=150, label=\"Max Sharpe Ratio\")\n",
    "plt.scatter(gmv_volatility, gmv_return, color=\"orange\", marker=\"o\", s=100, label=\"Global Min Volatility\")\n",
    "\n",
    "# Plot Capital Market Line (CML)\n",
    "cml_x = [0, msr_volatility]\n",
    "cml_y = [risk_free_rate, msr_return]\n",
    "plt.plot(cml_x, cml_y, color=\"green\", linestyle=\"--\", linewidth=1.5, label=\"Capital Market Line (CML)\")\n",
    "\n",
    "# Set axis labels, title, and legend\n",
    "ax.set_title(\"Efficient Frontier with Capital Market Line\", fontsize=16)\n",
    "ax.set_xlabel(\"Volatility\", fontsize=12)\n",
    "ax.set_ylabel(\"Expected Returns\", fontsize=12)\n",
    "ax.legend(loc=\"upper left\")\n",
    "ax.grid(True, linestyle='--', linewidth=0.5)\n",
    "\n",
    "# Set limits for better visualization (adjust as needed)\n",
    "ax.set_xlim(0, max(frontier_vols) * 1.1)\n",
    "ax.set_ylim(0, max(frontier_returns) * 1.1)\n",
    "\n",
    "# Show the plot\n",
    "plt.show()"
   ]
  },
  {
   "cell_type": "code",
   "execution_count": null,
   "id": "114564f2-9e10-4f3f-bb73-c4bae49ad1c9",
   "metadata": {},
   "outputs": [],
   "source": []
  }
 ],
 "metadata": {
  "kernelspec": {
   "display_name": "Python 3 (ipykernel)",
   "language": "python",
   "name": "python3"
  },
  "language_info": {
   "codemirror_mode": {
    "name": "ipython",
    "version": 3
   },
   "file_extension": ".py",
   "mimetype": "text/x-python",
   "name": "python",
   "nbconvert_exporter": "python",
   "pygments_lexer": "ipython3",
   "version": "3.12.7"
  }
 },
 "nbformat": 4,
 "nbformat_minor": 5
}
